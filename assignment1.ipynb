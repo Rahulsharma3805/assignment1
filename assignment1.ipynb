{
 "cells": [
  {
   "cell_type": "code",
   "execution_count": 1,
   "id": "168bf95e-d0a2-4c55-9b2f-e50a85da5730",
   "metadata": {},
   "outputs": [
    {
     "name": "stdout",
     "output_type": "stream",
     "text": [
      "['baki', 'sab', 'thik', 'bus', 'chal', 'raha h']\n"
     ]
    },
    {
     "name": "stdin",
     "output_type": "stream",
     "text": [
      "number dedo bhai 8\n"
     ]
    },
    {
     "name": "stdout",
     "output_type": "stream",
     "text": [
      "8\n",
      "7\n",
      "6\n",
      "5\n",
      "4\n",
      "3\n",
      "2\n",
      "1\n"
     ]
    }
   ],
   "source": [
    "\"\"\"for loop is used when we have to check something in list,tuple,dictionary as we can get each item in there indexes\n",
    "while loop is genrally used for checking a condition then it will go in the loop\"\"\"\n",
    "l=[\"baki\",\"sab\",\"thik\",\"bus\",\"chal\",\"raha h\",4,5,6]\n",
    "l1=[]\n",
    "for i in l:\n",
    "    if type(i)==str:\n",
    "        l1.append(i)\n",
    "print(l1)      \n",
    "\n",
    "n=int(input(\"number dedo bhai\"))\n",
    "while n>0:\n",
    "    print(n)\n",
    "    n=n-1\n"
   ]
  },
  {
   "cell_type": "code",
   "execution_count": 2,
   "id": "1b24ad3b-517e-4a97-a1ab-171f8df1bf70",
   "metadata": {},
   "outputs": [
    {
     "name": "stdout",
     "output_type": "stream",
     "text": [
      "55\n"
     ]
    }
   ],
   "source": [
    "sum=0\n",
    "for i in range(11):\n",
    "    sum=sum+i\n",
    "print(sum)"
   ]
  },
  {
   "cell_type": "code",
   "execution_count": 3,
   "id": "e2c48364-dfe6-4eb0-b9ed-60ccaa170651",
   "metadata": {},
   "outputs": [
    {
     "name": "stdout",
     "output_type": "stream",
     "text": [
      "55\n"
     ]
    }
   ],
   "source": [
    "sum,n=0,1\n",
    "while n<11:\n",
    "    sum=sum+n\n",
    "    n=n+1\n",
    "print(sum)"
   ]
  },
  {
   "cell_type": "code",
   "execution_count": 18,
   "id": "a0551be6-a88e-499a-b210-16cc70e0da7c",
   "metadata": {},
   "outputs": [
    {
     "name": "stdin",
     "output_type": "stream",
     "text": [
      "enter units consumed... 310\n"
     ]
    },
    {
     "name": "stdout",
     "output_type": "stream",
     "text": [
      "2250.0\n"
     ]
    }
   ],
   "source": [
    "n=int(input(\"enter units consumed...\"))\n",
    "if n>300:\n",
    "    sum=(n-300)*20+100*(4.5+6+10)\n",
    "elif n>200:\n",
    "        \n",
    "        sum=(n-200)*10+100*(4.5+6)\n",
    "elif n>100:\n",
    "            \n",
    "            sum=(n-100)*6+100*(4.5)\n",
    "else:\n",
    "                sum=n*4.5\n",
    "print(sum)\n",
    "        "
   ]
  },
  {
   "cell_type": "code",
   "execution_count": 23,
   "id": "3358e2b3-d36f-4113-96f8-ef256439a446",
   "metadata": {},
   "outputs": [],
   "source": [
    "l=list(range(101))"
   ]
  },
  {
   "cell_type": "code",
   "execution_count": 24,
   "id": "ac260bf2-2df0-497b-b583-ee77d92f5be5",
   "metadata": {},
   "outputs": [
    {
     "data": {
      "text/plain": [
       "[0,\n",
       " 64,\n",
       " 125,\n",
       " 512,\n",
       " 1000,\n",
       " 1728,\n",
       " 3375,\n",
       " 4096,\n",
       " 8000,\n",
       " 13824,\n",
       " 15625,\n",
       " 21952,\n",
       " 27000,\n",
       " 32768,\n",
       " 42875,\n",
       " 46656,\n",
       " 64000,\n",
       " 85184,\n",
       " 91125,\n",
       " 110592,\n",
       " 125000,\n",
       " 140608,\n",
       " 166375,\n",
       " 175616,\n",
       " 216000,\n",
       " 262144,\n",
       " 274625,\n",
       " 314432,\n",
       " 343000,\n",
       " 373248,\n",
       " 421875,\n",
       " 438976,\n",
       " 512000,\n",
       " 592704,\n",
       " 614125,\n",
       " 681472,\n",
       " 729000,\n",
       " 778688,\n",
       " 857375,\n",
       " 884736,\n",
       " 1000000]"
      ]
     },
     "execution_count": 24,
     "metadata": {},
     "output_type": "execute_result"
    }
   ],
   "source": [
    "[i**3 for i in l if i%4==0 or i%5==0]"
   ]
  },
  {
   "cell_type": "code",
   "execution_count": 30,
   "id": "93c25364-6539-471c-b825-1318dceaa0cf",
   "metadata": {},
   "outputs": [
    {
     "name": "stdout",
     "output_type": "stream",
     "text": [
      "12\n"
     ]
    }
   ],
   "source": [
    "a=\"i want to become a data scientist\"\n",
    "q=a.count(\"a\")\n",
    "w=a.count(\"o\")\n",
    "e=a.count(\"e\")\n",
    "r=a.count(\"i\")\n",
    "t=a.count(\"u\")\n",
    "y=q+w+e+r+t\n",
    "print(y)"
   ]
  },
  {
   "cell_type": "code",
   "execution_count": 41,
   "id": "a525915b-18f4-43cd-87c2-e3a09c1248be",
   "metadata": {},
   "outputs": [
    {
     "ename": "TypeError",
     "evalue": "list.append() takes exactly one argument (0 given)",
     "output_type": "error",
     "traceback": [
      "\u001b[0;31m---------------------------------------------------------------------------\u001b[0m",
      "\u001b[0;31mTypeError\u001b[0m                                 Traceback (most recent call last)",
      "Cell \u001b[0;32mIn[41], line 6\u001b[0m\n\u001b[1;32m      4\u001b[0m i\u001b[38;5;241m=\u001b[39mi\u001b[38;5;241m*\u001b[39m\u001b[38;5;241m*\u001b[39m\u001b[38;5;241m3\u001b[39m\n\u001b[1;32m      5\u001b[0m \u001b[38;5;28;01mif\u001b[39;00m i\u001b[38;5;241m%\u001b[39m\u001b[38;5;241m4\u001b[39m\u001b[38;5;241m==\u001b[39m\u001b[38;5;241m0\u001b[39m \u001b[38;5;129;01mor\u001b[39;00m i\u001b[38;5;241m%\u001b[39m\u001b[38;5;241m5\u001b[39m\u001b[38;5;241m==\u001b[39m\u001b[38;5;241m0\u001b[39m:\n\u001b[0;32m----> 6\u001b[0m     \u001b[43ml\u001b[49m\u001b[38;5;241;43m.\u001b[39;49m\u001b[43mappend\u001b[49m\u001b[43m(\u001b[49m\u001b[43m)\u001b[49m\n",
      "\u001b[0;31mTypeError\u001b[0m: list.append() takes exactly one argument (0 given)"
     ]
    }
   ],
   "source": [
    "i=0\n",
    "l=[]\n",
    "while i<=100:\n",
    "    i=i**3\n",
    "    if i%4==0 or i%5==0:\n",
    "        l.append()"
   ]
  },
  {
   "cell_type": "code",
   "execution_count": 36,
   "id": "42e75222-fbd4-4ccf-a2ef-3663e83fe6a9",
   "metadata": {},
   "outputs": [
    {
     "name": "stdout",
     "output_type": "stream",
     "text": [
      "list[range(0, 100)]\n"
     ]
    }
   ],
   "source": [
    "print(a)"
   ]
  },
  {
   "cell_type": "code",
   "execution_count": 37,
   "id": "2b21a055-2126-4871-a62e-baa72f4e8a1a",
   "metadata": {},
   "outputs": [],
   "source": [
    "k=2\n",
    "k=k**3"
   ]
  },
  {
   "cell_type": "code",
   "execution_count": 38,
   "id": "44ee212b-409b-4632-8a8f-880f2835081c",
   "metadata": {},
   "outputs": [
    {
     "data": {
      "text/plain": [
       "8"
      ]
     },
     "execution_count": 38,
     "metadata": {},
     "output_type": "execute_result"
    }
   ],
   "source": [
    "k"
   ]
  },
  {
   "cell_type": "code",
   "execution_count": null,
   "id": "38f614f7-4896-4192-acec-d69f98828f37",
   "metadata": {},
   "outputs": [],
   "source": []
  }
 ],
 "metadata": {
  "kernelspec": {
   "display_name": "Python 3 (ipykernel)",
   "language": "python",
   "name": "python3"
  },
  "language_info": {
   "codemirror_mode": {
    "name": "ipython",
    "version": 3
   },
   "file_extension": ".py",
   "mimetype": "text/x-python",
   "name": "python",
   "nbconvert_exporter": "python",
   "pygments_lexer": "ipython3",
   "version": "3.10.8"
  }
 },
 "nbformat": 4,
 "nbformat_minor": 5
}
